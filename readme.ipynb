{
 "cells": [
  {
   "cell_type": "code",
   "execution_count": null,
   "id": "initial_id",
   "metadata": {
    "collapsed": true
   },
   "outputs": [],
   "source": [
    "print(\"\"\"\n",
    "1. Install Python: Verify that Python is installed by running `python --version` in the command prompt or terminal. The Python version should appear. If Python is not installed, download it from the official Python website.\n",
    "\n",
    "2. Install Required Packages: This script uses pandas, plotly, and ipywidgets. These can be installed using pip, the Python package installer. Run the following in your command prompt or terminal: \n",
    "\n",
    "   pip install pandas plotly ipywidgets\n",
    "\n",
    "3. Check your working directory: Ensure the working directory (location where the Python script is saved) has a file named 'vehicles_us.csv'. The script seems to require this file for execution.\n",
    "\n",
    "4. Transfer the Script: Copy the corrected script (including the new title and header at the top) to a .py file on the local machine.\n",
    "\n",
    "5. Run the Script: Navigate to the directory where the script is located. In the terminal or command prompt, run the script with python file.py (replace \"file.py\" with the actual filename).\n",
    "\n",
    "Note: Please read and understand the script, and modify any paths if required (like the path for the .csv file). Also, in case the script uses modules not mentioned in this post, they will need to be installed as well with pip. For example: pip install module_name. Before running any script, especially scripts you get from the internet, always make sure you understand what it does, to maintain the safety and integrity of your computer.\n",
    "\"\"\")"
   ]
  }
 ],
 "metadata": {
  "kernelspec": {
   "display_name": "Python 3",
   "language": "python",
   "name": "python3"
  },
  "language_info": {
   "codemirror_mode": {
    "name": "ipython",
    "version": 2
   },
   "file_extension": ".py",
   "mimetype": "text/x-python",
   "name": "python",
   "nbconvert_exporter": "python",
   "pygments_lexer": "ipython2",
   "version": "2.7.6"
  }
 },
 "nbformat": 4,
 "nbformat_minor": 5
}
