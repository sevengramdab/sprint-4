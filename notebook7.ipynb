{
 "cells": [
  {
   "source": "import pandas as pd\n\n# Load the dataset\nvehicles_df = pd.read_csv('vehicles_us.csv')\n# Display the first few rows of the dataframe\ndisplay(vehicles_df.head())",
   "metadata": {
    "executionCancelledAt": null,
    "executionTime": 90,
    "lastExecutedAt": 1714973923721,
    "lastExecutedByKernel": "37109240-de58-4443-b94d-e38fe4f809da",
    "lastScheduledRunId": null,
    "lastSuccessfullyExecutedCode": "import pandas as pd\n\n# Load the dataset\nvehicles_df = pd.read_csv('vehicles_us.csv')\n# Display the first few rows of the dataframe\ndisplay(vehicles_df.head())",
    "outputsMetadata": {
     "0": {
      "height": 210,
      "type": "dataFrame"
     }
    },
    "collapsed": false,
    "jupyter": {
     "outputs_hidden": false,
     "source_hidden": false
    },
    "ExecuteTime": {
     "end_time": "2024-05-11T04:10:56.090602Z",
     "start_time": "2024-05-11T04:10:52.344922Z"
    }
   },
   "cell_type": "code",
   "id": "6ad0ad17-9e5e-4472-95ff-0ba0c9466c98",
   "outputs": [
    {
     "data": {
      "text/plain": [
       "   price  model_year           model  condition  cylinders fuel  odometer  \\\n",
       "0   9400      2011.0          bmw x5       good        6.0  gas  145000.0   \n",
       "1  25500         NaN      ford f-150       good        6.0  gas   88705.0   \n",
       "2   5500      2013.0  hyundai sonata   like new        4.0  gas  110000.0   \n",
       "3   1500      2003.0      ford f-150       fair        8.0  gas       NaN   \n",
       "4  14900      2017.0    chrysler 200  excellent        4.0  gas   80903.0   \n",
       "\n",
       "  transmission    type paint_color  is_4wd date_posted  days_listed  \n",
       "0    automatic     SUV         NaN     1.0  2018-06-23           19  \n",
       "1    automatic  pickup       white     1.0  2018-10-19           50  \n",
       "2    automatic   sedan         red     NaN  2019-02-07           79  \n",
       "3    automatic  pickup         NaN     NaN  2019-03-22            9  \n",
       "4    automatic   sedan       black     NaN  2019-04-02           28  "
      ],
      "text/html": [
       "<div>\n",
       "<style scoped>\n",
       "    .dataframe tbody tr th:only-of-type {\n",
       "        vertical-align: middle;\n",
       "    }\n",
       "\n",
       "    .dataframe tbody tr th {\n",
       "        vertical-align: top;\n",
       "    }\n",
       "\n",
       "    .dataframe thead th {\n",
       "        text-align: right;\n",
       "    }\n",
       "</style>\n",
       "<table border=\"1\" class=\"dataframe\">\n",
       "  <thead>\n",
       "    <tr style=\"text-align: right;\">\n",
       "      <th></th>\n",
       "      <th>price</th>\n",
       "      <th>model_year</th>\n",
       "      <th>model</th>\n",
       "      <th>condition</th>\n",
       "      <th>cylinders</th>\n",
       "      <th>fuel</th>\n",
       "      <th>odometer</th>\n",
       "      <th>transmission</th>\n",
       "      <th>type</th>\n",
       "      <th>paint_color</th>\n",
       "      <th>is_4wd</th>\n",
       "      <th>date_posted</th>\n",
       "      <th>days_listed</th>\n",
       "    </tr>\n",
       "  </thead>\n",
       "  <tbody>\n",
       "    <tr>\n",
       "      <th>0</th>\n",
       "      <td>9400</td>\n",
       "      <td>2011.0</td>\n",
       "      <td>bmw x5</td>\n",
       "      <td>good</td>\n",
       "      <td>6.0</td>\n",
       "      <td>gas</td>\n",
       "      <td>145000.0</td>\n",
       "      <td>automatic</td>\n",
       "      <td>SUV</td>\n",
       "      <td>NaN</td>\n",
       "      <td>1.0</td>\n",
       "      <td>2018-06-23</td>\n",
       "      <td>19</td>\n",
       "    </tr>\n",
       "    <tr>\n",
       "      <th>1</th>\n",
       "      <td>25500</td>\n",
       "      <td>NaN</td>\n",
       "      <td>ford f-150</td>\n",
       "      <td>good</td>\n",
       "      <td>6.0</td>\n",
       "      <td>gas</td>\n",
       "      <td>88705.0</td>\n",
       "      <td>automatic</td>\n",
       "      <td>pickup</td>\n",
       "      <td>white</td>\n",
       "      <td>1.0</td>\n",
       "      <td>2018-10-19</td>\n",
       "      <td>50</td>\n",
       "    </tr>\n",
       "    <tr>\n",
       "      <th>2</th>\n",
       "      <td>5500</td>\n",
       "      <td>2013.0</td>\n",
       "      <td>hyundai sonata</td>\n",
       "      <td>like new</td>\n",
       "      <td>4.0</td>\n",
       "      <td>gas</td>\n",
       "      <td>110000.0</td>\n",
       "      <td>automatic</td>\n",
       "      <td>sedan</td>\n",
       "      <td>red</td>\n",
       "      <td>NaN</td>\n",
       "      <td>2019-02-07</td>\n",
       "      <td>79</td>\n",
       "    </tr>\n",
       "    <tr>\n",
       "      <th>3</th>\n",
       "      <td>1500</td>\n",
       "      <td>2003.0</td>\n",
       "      <td>ford f-150</td>\n",
       "      <td>fair</td>\n",
       "      <td>8.0</td>\n",
       "      <td>gas</td>\n",
       "      <td>NaN</td>\n",
       "      <td>automatic</td>\n",
       "      <td>pickup</td>\n",
       "      <td>NaN</td>\n",
       "      <td>NaN</td>\n",
       "      <td>2019-03-22</td>\n",
       "      <td>9</td>\n",
       "    </tr>\n",
       "    <tr>\n",
       "      <th>4</th>\n",
       "      <td>14900</td>\n",
       "      <td>2017.0</td>\n",
       "      <td>chrysler 200</td>\n",
       "      <td>excellent</td>\n",
       "      <td>4.0</td>\n",
       "      <td>gas</td>\n",
       "      <td>80903.0</td>\n",
       "      <td>automatic</td>\n",
       "      <td>sedan</td>\n",
       "      <td>black</td>\n",
       "      <td>NaN</td>\n",
       "      <td>2019-04-02</td>\n",
       "      <td>28</td>\n",
       "    </tr>\n",
       "  </tbody>\n",
       "</table>\n",
       "</div>"
      ]
     },
     "metadata": {},
     "output_type": "display_data"
    }
   ],
   "execution_count": 1
  },
  {
   "source": "from ipywidgets import interactive, HBox, VBox, widgets\nimport plotly.express as px\nimport plotly.graph_objects as go\nimport numpy as np\n\n# Function to update the histogram based on the trend line visibility\ndef update_histogram(show_trendline):\n    fig = px.histogram(vehicles_df, x='price', title='Vehicle Price Distribution')\n    if show_trendline:\n        fig.add_traces(go.Scatter(x=np.sort(vehicles_df['price']), \n                                  y=np.poly1d(np.polyfit(vehicles_df['price'], \n                                                         np.histogram(vehicles_df['price'], bins=40)[0], \n                                                         1))(np.sort(vehicles_df['price'])),\n                                  mode='lines', name='Trend Line'))\n    fig.show()\n\n# Ensure there are no duplicate options by using unique widget identifiers if needed\n\n# Create interactive widget\ninteractive_plot = interactive(update_histogram, show_trendline=widgets.Checkbox(value=False, description='Show Trend Line'))\ndisplay(interactive_plot)",
   "metadata": {
    "executionCancelledAt": null,
    "executionTime": 169,
    "lastExecutedAt": 1714973923890,
    "lastExecutedByKernel": "37109240-de58-4443-b94d-e38fe4f809da",
    "lastScheduledRunId": null,
    "lastSuccessfullyExecutedCode": "from ipywidgets import interactive, HBox, VBox, widgets\nimport plotly.express as px\nimport plotly.graph_objects as go\nimport numpy as np\n\n# Function to update the histogram based on the trend line visibility\ndef update_histogram(show_trendline):\n    fig = px.histogram(vehicles_df, x='price', title='Vehicle Price Distribution')\n    if show_trendline:\n        fig.add_traces(go.Scatter(x=np.sort(vehicles_df['price']), \n                                  y=np.poly1d(np.polyfit(vehicles_df['price'], \n                                                         np.histogram(vehicles_df['price'], bins=40)[0], \n                                                         1))(np.sort(vehicles_df['price'])),\n                                  mode='lines', name='Trend Line'))\n    fig.show()\n\n# Ensure there are no duplicate options by using unique widget identifiers if needed\n\n# Create interactive widget\ninteractive_plot = interactive(update_histogram, show_trendline=widgets.Checkbox(value=False, description='Show Trend Line'))\ndisplay(interactive_plot)",
    "outputsMetadata": {
     "0": {
      "height": 467,
      "type": "plotly"
     }
    },
    "collapsed": false,
    "jupyter": {
     "outputs_hidden": false,
     "source_hidden": false,
     "is_executing": true
    },
    "ExecuteTime": {
     "start_time": "2024-05-11T04:10:56.091609Z"
    }
   },
   "cell_type": "code",
   "id": "8486e6fe-913a-4e40-a122-fbad6270e7ce",
   "outputs": [
    {
     "data": {
      "text/plain": [
       "interactive(children=(Checkbox(value=False, description='Show Trend Line'), Output()), _dom_classes=('widget-i…"
      ],
      "application/vnd.jupyter.widget-view+json": {
       "version_major": 2,
       "version_minor": 0,
       "model_id": "85e45f76981b4306af646ec86da72860"
      }
     },
     "metadata": {},
     "output_type": "display_data"
    }
   ],
   "execution_count": null
  },
  {
   "source": "from ipywidgets import interactive, HBox, VBox, widgets, Layout\nimport plotly.express as px\nimport plotly.graph_objects as go\nimport numpy as np\n\n# Function to update the histogram based on the trend line, outlier removal options, and ensuring no negative y values\ndef update_histogram(show_trendline, remove_outliers):\n    # Filter out outliers if the checkbox is checked\n    if remove_outliers:\n        Q1 = vehicles_df['price'].quantile(0.25)\n        Q3 = vehicles_df['price'].quantile(0.75)\n        IQR = Q3 - Q1\n        filtered_df = vehicles_df.query('(@Q1 - 1.5 * @IQR) <= price <= (@Q3 + 1.5 * @IQR)')\n    else:\n        filtered_df = vehicles_df\n    \n    fig = px.histogram(filtered_df, x='price', title='Vehicle Price Distribution')\n    \n    if show_trendline:\n        # Calculate and display the trend line\n        # Ensure no negative y values by clipping at 0\n        y_values = np.poly1d(np.polyfit(filtered_df['price'], \n                                        np.histogram(filtered_df['price'], bins=40)[0], \n                                        1))(np.sort(filtered_df['price']))\n        y_values_clipped = np.clip(y_values, a_min=0, a_max=None)  # Clip negative values to 0\n        fig.add_traces(go.Scatter(x=np.sort(filtered_df['price']), \n                                  y=y_values_clipped,\n                                  mode='lines', name='Trend Line'))\n    fig.update_layout(showlegend=True)\n    fig.show()\n\n# Create interactive widgets with specified layout for better appearance\ncheckbox_trendline = widgets.Checkbox(value=False, description='Show Trend Line', layout=Layout(width='auto', margin='0 0 0 20px'))\ncheckbox_outliers = widgets.Checkbox(value=False, description='Remove Outliers', layout=Layout(width='auto', margin='0 0 0 20px'))\n\n# Layout adjustments for better UI\nui = VBox([checkbox_trendline, checkbox_outliers])\n\ninteractive_plot = interactive(update_histogram, \n                               show_trendline=checkbox_trendline, \n                               remove_outliers=checkbox_outliers)\n\n# Display the UI and interactive plot together\ndisplay(ui, interactive_plot)",
   "metadata": {
    "executionCancelledAt": null,
    "executionTime": 179,
    "lastExecutedAt": 1714973924069,
    "lastExecutedByKernel": "37109240-de58-4443-b94d-e38fe4f809da",
    "lastScheduledRunId": null,
    "lastSuccessfullyExecutedCode": "from ipywidgets import interactive, HBox, VBox, widgets, Layout\nimport plotly.express as px\nimport plotly.graph_objects as go\nimport numpy as np\n\n# Function to update the histogram based on the trend line, outlier removal options, and ensuring no negative y values\ndef update_histogram(show_trendline, remove_outliers):\n    # Filter out outliers if the checkbox is checked\n    if remove_outliers:\n        Q1 = vehicles_df['price'].quantile(0.25)\n        Q3 = vehicles_df['price'].quantile(0.75)\n        IQR = Q3 - Q1\n        filtered_df = vehicles_df.query('(@Q1 - 1.5 * @IQR) <= price <= (@Q3 + 1.5 * @IQR)')\n    else:\n        filtered_df = vehicles_df\n    \n    fig = px.histogram(filtered_df, x='price', title='Vehicle Price Distribution')\n    \n    if show_trendline:\n        # Calculate and display the trend line\n        # Ensure no negative y values by clipping at 0\n        y_values = np.poly1d(np.polyfit(filtered_df['price'], \n                                        np.histogram(filtered_df['price'], bins=40)[0], \n                                        1))(np.sort(filtered_df['price']))\n        y_values_clipped = np.clip(y_values, a_min=0, a_max=None)  # Clip negative values to 0\n        fig.add_traces(go.Scatter(x=np.sort(filtered_df['price']), \n                                  y=y_values_clipped,\n                                  mode='lines', name='Trend Line'))\n    fig.update_layout(showlegend=True)\n    fig.show()\n\n# Create interactive widgets with specified layout for better appearance\ncheckbox_trendline = widgets.Checkbox(value=False, description='Show Trend Line', layout=Layout(width='auto', margin='0 0 0 20px'))\ncheckbox_outliers = widgets.Checkbox(value=False, description='Remove Outliers', layout=Layout(width='auto', margin='0 0 0 20px'))\n\n# Layout adjustments for better UI\nui = VBox([checkbox_trendline, checkbox_outliers])\n\ninteractive_plot = interactive(update_histogram, \n                               show_trendline=checkbox_trendline, \n                               remove_outliers=checkbox_outliers)\n\n# Display the UI and interactive plot together\ndisplay(ui, interactive_plot)",
    "outputsMetadata": {
     "0": {
      "height": 467,
      "type": "plotly"
     },
     "1": {
      "height": 17,
      "type": "plotly"
     },
     "2": {
      "height": 101,
      "type": "stream"
     }
    },
    "collapsed": false,
    "jupyter": {
     "outputs_hidden": false,
     "source_hidden": false
    }
   },
   "cell_type": "code",
   "id": "0bdc84c4-9b8e-4bfc-9a5a-65ca70553c6e",
   "outputs": [
    {
     "data": {
      "text/plain": [
       "VBox(children=(Checkbox(value=False, description='Show Trend Line', layout=Layout(margin='0 0 0 20px', width='…"
      ],
      "application/vnd.jupyter.widget-view+json": {
       "version_major": 2,
       "version_minor": 0,
       "model_id": "f007854b67224e979657689db86da9f5"
      }
     },
     "metadata": {},
     "output_type": "display_data"
    },
    {
     "data": {
      "text/plain": [
       "interactive(children=(Checkbox(value=False, description='Show Trend Line', layout=Layout(margin='0 0 0 20px', …"
      ],
      "application/vnd.jupyter.widget-view+json": {
       "version_major": 2,
       "version_minor": 0,
       "model_id": "6b4e0277d8de4c2abb064d3ad2b1145e"
      }
     },
     "metadata": {},
     "output_type": "display_data"
    }
   ],
   "execution_count": 3
  },
  {
   "source": [
    "import pandas as pd\n",
    "import plotly.express as px\n",
    "\n",
    "# Assuming avg_price_by_year_type is the DataFrame you want to visualize\n",
    "# Assign individual variables to enhance readability\n",
    "data_frame = avg_price_by_year_type\n",
    "x_axis = 'model_year'\n",
    "y_axis = 'price'\n",
    "color_dimension = 'type'\n",
    "label_dict = {'price': 'Average Price'}\n",
    "title = 'Average Price by Model Year and Type'\n",
    "\n",
    "# Use the assigned variables in the function call\n",
    "fig_bar = px.bar(data_frame, x=x_axis, y=y_axis, color=color_dimension, labels=label_dict, title=title)\n",
    "\n",
    "# Display the figure\n",
    "fig_bar.show()"
   ],
   "metadata": {
    "executionCancelledAt": null,
    "executionTime": 126,
    "lastExecutedAt": 1714975266161,
    "lastExecutedByKernel": "37109240-de58-4443-b94d-e38fe4f809da",
    "lastScheduledRunId": null,
    "lastSuccessfullyExecutedCode": "import pandas as pd\nimport plotly.express as px\n\n# Assuming avg_price_by_year_type is the DataFrame you want to visualize\nfig_bar = px.bar(avg_price_by_year_type, x='model_year', y='price', color='type', \n                 labels={'price': 'Average Price'}, title='Average Price by Model Year and Type')\n\n# Display the figure\nfig_bar.show()",
    "outputsMetadata": {
     "0": {
      "height": 467,
      "type": "plotly"
     }
    },
    "ExecuteTime": {
     "end_time": "2024-05-11T04:10:58.259748Z",
     "start_time": "2024-05-11T04:10:57.488442Z"
    }
   },
   "cell_type": "code",
   "id": "47621e67-86d1-49d2-892d-ac950568dddc",
   "outputs": [
    {
     "ename": "NameError",
     "evalue": "name 'avg_price_by_year_type' is not defined",
     "output_type": "error",
     "traceback": [
      "\u001B[1;31m---------------------------------------------------------------------------\u001B[0m",
      "\u001B[1;31mNameError\u001B[0m                                 Traceback (most recent call last)",
      "Cell \u001B[1;32mIn[4], line 6\u001B[0m\n\u001B[0;32m      2\u001B[0m \u001B[38;5;28;01mimport\u001B[39;00m \u001B[38;5;21;01mplotly\u001B[39;00m\u001B[38;5;21;01m.\u001B[39;00m\u001B[38;5;21;01mexpress\u001B[39;00m \u001B[38;5;28;01mas\u001B[39;00m \u001B[38;5;21;01mpx\u001B[39;00m\n\u001B[0;32m      4\u001B[0m \u001B[38;5;66;03m# Assuming avg_price_by_year_type is the DataFrame you want to visualize\u001B[39;00m\n\u001B[0;32m      5\u001B[0m \u001B[38;5;66;03m# Assign individual variables to enhance readability\u001B[39;00m\n\u001B[1;32m----> 6\u001B[0m data_frame \u001B[38;5;241m=\u001B[39m \u001B[43mavg_price_by_year_type\u001B[49m\n\u001B[0;32m      7\u001B[0m x_axis \u001B[38;5;241m=\u001B[39m \u001B[38;5;124m'\u001B[39m\u001B[38;5;124mmodel_year\u001B[39m\u001B[38;5;124m'\u001B[39m\n\u001B[0;32m      8\u001B[0m y_axis \u001B[38;5;241m=\u001B[39m \u001B[38;5;124m'\u001B[39m\u001B[38;5;124mprice\u001B[39m\u001B[38;5;124m'\u001B[39m\n",
      "\u001B[1;31mNameError\u001B[0m: name 'avg_price_by_year_type' is not defined"
     ]
    }
   ],
   "execution_count": 4
  },
  {
   "source": "import pandas as pd\nimport plotly.express as px\n\n# Assuming vehicles_df_filtered is already defined in the environment\n# Generate a bar plot for Average Vehicle Price vs. Model Year by Type with an interactive legend\n# Limiting the plot to vehicles below 200k miles, limiting y axis to below 100,000, and only showing years from 1960 onward\n\n# First, filter the dataframe for vehicles below 200k miles\nvehicles_below_200k = vehicles_df_filtered[vehicles_df_filtered['odometer'] < 200000]\n\n# Then, calculate the average price per model year and type\navg_price_by_year_type = vehicles_below_200k.groupby(['model_year', 'type'])['price'].mean().reset_index()\n\nfig = px.bar(avg_price_by_year_type, x='model_year', y='price', color='type', \n             labels={'price': 'Average Vehicle Price', 'model_year': 'Model Year'},\n             title='Average Vehicle Price vs. Model Year by Type (Below 300k Miles)')\n\n# Update layout to improve visibility and interactivity, including limiting y axis to below 100,000 and only showing years from 1960 onward\nfig.update_layout(legend_title_text='Vehicle Type',\n                  xaxis=dict(\n                      title='Model Year',\n                      range=[1960, max(avg_price_by_year_type['model_year'])+1]  # Only show years from 1960 onward\n                  ),\n                  yaxis=dict(\n                      title='Average Vehicle Price',\n                      range=[0, 300000]  # Limiting y axis to below 100,000\n                  ),\n                  legend=dict(\n                      title_font_size=12,\n                      itemclick=\"toggleothers\",\n                      itemdoubleclick=\"toggle\",\n                      # Enable selecting multiple legend items by setting 'groupclick' to 'togglegroup'\n                      groupclick=\"togglegroup\"\n                  ),\n                  font=dict(\n                      family=\"Arial, sans-serif\",\n                      size=12,\n                      color=\"RebeccaPurple\"\n                  ))\n\nfig.show()",
   "metadata": {
    "executionCancelledAt": null,
    "executionTime": 143,
    "lastExecutedAt": 1714973924255,
    "lastExecutedByKernel": "37109240-de58-4443-b94d-e38fe4f809da",
    "lastScheduledRunId": null,
    "lastSuccessfullyExecutedCode": "# Assuming vehicles_df_filtered is already defined in the environment\n# Generate a bar plot for Average Vehicle Price vs. Model Year by Type with an interactive legend\n# Limiting the plot to vehicles below 200k miles, limiting y axis to below 100,000, and only showing years from 1960 onward\n\n# First, filter the dataframe for vehicles below 200k miles\nvehicles_below_200k = vehicles_df_filtered[vehicles_df_filtered['odometer'] < 200000]\n\n# Then, calculate the average price per model year and type\navg_price_by_year_type = vehicles_below_200k.groupby(['model_year', 'type'])['price'].mean().reset_index()\n\nfig = px.bar(avg_price_by_year_type, x='model_year', y='price', color='type', \n             labels={'price': 'Average Vehicle Price', 'model_year': 'Model Year'},\n             title='Average Vehicle Price vs. Model Year by Type (Below 300k Miles)')\n\n# Update layout to improve visibility and interactivity, including limiting y axis to below 100,000 and only showing years from 1960 onward\nfig.update_layout(legend_title_text='Vehicle Type',\n                  xaxis=dict(\n                      title='Model Year',\n                      range=[1960, max(avg_price_by_year_type['model_year'])+1]  # Only show years from 1960 onward\n                  ),\n                  yaxis=dict(\n                      title='Average Vehicle Price',\n                      range=[0, 300000]  # Limiting y axis to below 100,000\n                  ),\n                  legend=dict(\n                      title_font_size=12,\n                      itemclick=\"toggleothers\",\n                      itemdoubleclick=\"toggle\",\n                      # Enable selecting multiple legend items by setting 'groupclick' to 'togglegroup'\n                      groupclick=\"togglegroup\"\n                  ),\n                  font=dict(\n                      family=\"Arial, sans-serif\",\n                      size=12,\n                      color=\"RebeccaPurple\"\n                  ))\n\nfig.show()",
    "outputsMetadata": {
     "0": {
      "height": 467,
      "type": "plotly"
     },
     "1": {
      "height": 467,
      "type": "plotly"
     }
    },
    "ExecuteTime": {
     "end_time": "2024-05-11T04:10:58.260775Z",
     "start_time": "2024-05-11T04:10:58.260775Z"
    }
   },
   "cell_type": "code",
   "id": "d7ef0586-52b9-4ced-8e41-db5c60d2284c",
   "outputs": [],
   "execution_count": null
  }
 ],
 "metadata": {
  "colab": {
   "name": "Welcome to DataCamp Workspaces.ipynb",
   "provenance": []
  },
  "kernelspec": {
   "display_name": "Python 3 (ipykernel)",
   "language": "python",
   "name": "python3"
  },
  "language_info": {
   "codemirror_mode": {
    "name": "ipython",
    "version": 3
   },
   "file_extension": ".py",
   "mimetype": "text/x-python",
   "name": "python",
   "nbconvert_exporter": "python",
   "pygments_lexer": "ipython3",
   "version": "3.10.12"
  }
 },
 "nbformat": 4,
 "nbformat_minor": 5
}
